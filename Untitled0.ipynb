{
  "nbformat": 4,
  "nbformat_minor": 0,
  "metadata": {
    "colab": {
      "provenance": []
    },
    "kernelspec": {
      "name": "python3",
      "display_name": "Python 3"
    },
    "language_info": {
      "name": "python"
    }
  },
  "cells": [
    {
      "cell_type": "code",
      "source": [
        "def follows_pattern(pattern, s):\n",
        "    words = s.split()\n",
        "    if len(pattern) != len(words):\n",
        "        return False\n",
        "    pattern_to_word = {}\n",
        "    word_to_pattern = {}\n",
        "    for p, w in zip(pattern, words):\n",
        "        if p in pattern_to_word:\n",
        "            if pattern_to_word[p] != w:\n",
        "                return False\n",
        "        else:\n",
        "            pattern_to_word[p] = w\n",
        "        if w in word_to_pattern:\n",
        "            if word_to_pattern[w] != p:\n",
        "                return False\n",
        "        else:\n",
        "            word_to_pattern[w] = p\n",
        "    return True\n",
        "\n",
        "def main():\n",
        "    examples = [\n",
        "        (\"abba\", \"dog cat cat dog\"),\n",
        "        (\"abba\", \"dog cat cat fish\"),\n",
        "        (\"aaaa\", \"dog cat cat dog\"),\n",
        "        (\"abc\", \"dog cat fish\"),\n",
        "        (\"abcd\", \"dog cat dog cat\"),\n",
        "    ]\n",
        "    for i, (pattern, s) in enumerate(examples, 1):\n",
        "        result = follows_pattern(pattern, s)\n",
        "        print(f\"Example {i}: Pattern = '{pattern}', String = '{s}' -> Output: {result}\")\n",
        "\n",
        "if __name__ == \"__main__\":\n",
        "    main()"
      ],
      "metadata": {
        "id": "vtMDrICVfrKi",
        "colab": {
          "base_uri": "https://localhost:8080/"
        },
        "outputId": "d897d9e8-557c-4b74-ba88-6b8bce0b719d"
      },
      "execution_count": 8,
      "outputs": [
        {
          "output_type": "stream",
          "name": "stdout",
          "text": [
            "Example 1: Pattern = 'abba', String = 'dog cat cat dog' -> Output: True\n",
            "Example 2: Pattern = 'abba', String = 'dog cat cat fish' -> Output: False\n",
            "Example 3: Pattern = 'aaaa', String = 'dog cat cat dog' -> Output: False\n",
            "Example 4: Pattern = 'abc', String = 'dog cat fish' -> Output: True\n",
            "Example 5: Pattern = 'abcd', String = 'dog cat dog cat' -> Output: False\n"
          ]
        }
      ]
    },
    {
      "cell_type": "code",
      "execution_count": 8,
      "metadata": {
        "id": "5wEC3f02fGqk"
      },
      "outputs": [],
      "source": []
    },
    {
      "cell_type": "code",
      "source": [],
      "metadata": {
        "id": "kuvtTs1NfoUV"
      },
      "execution_count": 8,
      "outputs": []
    },
    {
      "cell_type": "code",
      "source": [],
      "metadata": {
        "id": "FiOrgRtvfomV"
      },
      "execution_count": 8,
      "outputs": []
    },
    {
      "cell_type": "code",
      "source": [],
      "metadata": {
        "id": "kwZV7nanfk-p"
      },
      "execution_count": 8,
      "outputs": []
    }
  ]
}